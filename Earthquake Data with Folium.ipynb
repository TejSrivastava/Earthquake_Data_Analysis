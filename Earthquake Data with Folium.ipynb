{
 "cells": [
  {
   "cell_type": "code",
   "execution_count": 2,
   "id": "28ca2c1a",
   "metadata": {},
   "outputs": [
    {
     "name": "stdout",
     "output_type": "stream",
     "text": [
      "Collecting folium\n",
      "  Downloading folium-0.14.0-py2.py3-none-any.whl (102 kB)\n",
      "     -------------------------------------- 102.3/102.3 kB 2.0 MB/s eta 0:00:00\n",
      "Requirement already satisfied: requests in c:\\users\\tejas\\anaconda3\\lib\\site-packages (from folium) (2.28.1)\n",
      "Requirement already satisfied: jinja2>=2.9 in c:\\users\\tejas\\anaconda3\\lib\\site-packages (from folium) (2.11.3)\n",
      "Collecting branca>=0.6.0\n",
      "  Downloading branca-0.6.0-py3-none-any.whl (24 kB)\n",
      "Requirement already satisfied: numpy in c:\\users\\tejas\\anaconda3\\lib\\site-packages (from folium) (1.22.4)\n",
      "Requirement already satisfied: MarkupSafe>=0.23 in c:\\users\\tejas\\anaconda3\\lib\\site-packages (from jinja2>=2.9->folium) (2.0.1)\n",
      "Requirement already satisfied: idna<4,>=2.5 in c:\\users\\tejas\\anaconda3\\lib\\site-packages (from requests->folium) (3.3)\n",
      "Requirement already satisfied: charset-normalizer<3,>=2 in c:\\users\\tejas\\anaconda3\\lib\\site-packages (from requests->folium) (2.0.4)\n",
      "Requirement already satisfied: urllib3<1.27,>=1.21.1 in c:\\users\\tejas\\anaconda3\\lib\\site-packages (from requests->folium) (1.26.11)\n",
      "Requirement already satisfied: certifi>=2017.4.17 in c:\\users\\tejas\\anaconda3\\lib\\site-packages (from requests->folium) (2022.12.7)\n",
      "Installing collected packages: branca, folium\n",
      "Successfully installed branca-0.6.0 folium-0.14.0\n",
      "Note: you may need to restart the kernel to use updated packages.\n"
     ]
    }
   ],
   "source": [
    "pip install folium"
   ]
  },
  {
   "cell_type": "code",
   "execution_count": 4,
   "id": "b50ce698",
   "metadata": {},
   "outputs": [
    {
     "name": "stdout",
     "output_type": "stream",
     "text": [
      "<class 'pandas.core.frame.DataFrame'>\n",
      "RangeIndex: 1 entries, 0 to 0\n",
      "Data columns (total 22 columns):\n",
      " #   Column           Non-Null Count  Dtype  \n",
      "---  ------           --------------  -----  \n",
      " 0   time             1 non-null      object \n",
      " 1   latitude         1 non-null      float64\n",
      " 2   longitude        1 non-null      float64\n",
      " 3   depth            1 non-null      float64\n",
      " 4   mag              1 non-null      float64\n",
      " 5   magType          1 non-null      object \n",
      " 6   nst              1 non-null      int64  \n",
      " 7   gap              1 non-null      int64  \n",
      " 8   dmin             1 non-null      float64\n",
      " 9   rms              1 non-null      float64\n",
      " 10  net              1 non-null      object \n",
      " 11  id               1 non-null      object \n",
      " 12  updated          1 non-null      object \n",
      " 13  place            1 non-null      object \n",
      " 14  type             1 non-null      object \n",
      " 15  horizontalError  1 non-null      float64\n",
      " 16  depthError       1 non-null      float64\n",
      " 17  magError         1 non-null      float64\n",
      " 18  magNst           1 non-null      int64  \n",
      " 19  status           1 non-null      object \n",
      " 20  locationSource   1 non-null      object \n",
      " 21  magSource        1 non-null      object \n",
      "dtypes: float64(9), int64(3), object(10)\n",
      "memory usage: 304.0+ bytes\n"
     ]
    }
   ],
   "source": [
    "import folium\n",
    "import pandas as pd\n",
    "\n",
    "# this feed tracks every earthquake of magnitude 2.5 or greater over the last month\n",
    "df = pd.read_csv(\"C:\\\\Users\\\\Tejas\\\\Earthquake.csv\")\n",
    "\n",
    "df.info() # let's take a look at our available columns"
   ]
  },
  {
   "cell_type": "code",
   "execution_count": 5,
   "id": "2529f4af",
   "metadata": {},
   "outputs": [],
   "source": [
    "import folium\n",
    "\n",
    "# We create a new map object\n",
    "m = folium.Map(location=(0, 0), zoom_start=2)\n",
    "\n",
    "# save our map to an interactive html file\n",
    "m.save('earthquakes.html')"
   ]
  },
  {
   "cell_type": "code",
   "execution_count": 7,
   "id": "46e93d71",
   "metadata": {},
   "outputs": [],
   "source": [
    "# Same as before\n",
    "m = folium.Map(location=(0, 0), zoom_start=2)\n",
    "\n",
    "# go through each quake in set, make circle, and add to map.\n",
    "for i in range(len(df)):\n",
    "    folium.Circle(\n",
    "        location=[df.iloc[i]['latitude'], df.iloc[i]['longitude']],\n",
    "        radius=10,\n",
    "    ).add_to(m)\n",
    "\n",
    "# Same as before, we save it to file\n",
    "m.save('earthquakes.html')"
   ]
  },
  {
   "cell_type": "code",
   "execution_count": 8,
   "id": "4e2e6060",
   "metadata": {},
   "outputs": [],
   "source": [
    "m = folium.Map(location=(0, 0), zoom_start=2)\n",
    "\n",
    "# go through each home in set, make circle, and add to map.\n",
    "for i in range(len(df)):\n",
    "    folium.Circle(\n",
    "        location=[df.iloc[i]['latitude'], df.iloc[i]['longitude']],\n",
    "        radius=df.iloc[i]['mag'] * 50000,\n",
    "        fill_opacity=0.1,\n",
    "        \n",
    "    ).add_to(m)\n",
    "\n",
    "# Same as before, we save it to file\n",
    "m.save('earthquakes.html')"
   ]
  },
  {
   "cell_type": "code",
   "execution_count": 9,
   "id": "90fd452e",
   "metadata": {},
   "outputs": [],
   "source": [
    "# Same as before, we get the center and make the map object\n",
    "m = folium.Map(location=(0, 0), zoom_start=2)\n",
    "\n",
    "# go through each quake in set, make circle, and add to map.\n",
    "for i in range(len(df)):\n",
    "    if df.iloc[i]['mag'] > 3:\n",
    "        folium.Circle(\n",
    "            location=[df.iloc[i]['latitude'], df.iloc[i]['longitude']],\n",
    "            radius=df.iloc[i]['mag'] * 70000,\n",
    "            weight=1,  # thickness of the border\n",
    "            color='red',  # this is the color of the border\n",
    "            opacity=0.3,  # this is the alpha for the border\n",
    "            fill_color='red',  # fill is inside the circle\n",
    "            fill_opacity=0.1,  # we will make that less opaque so we can see layers\n",
    "\n",
    "        ).add_to(m)\n",
    "\n",
    "# Same as before, we save it to file\n",
    "m.save('earthquakes.html')"
   ]
  },
  {
   "cell_type": "code",
   "execution_count": 10,
   "id": "6127a3f5",
   "metadata": {},
   "outputs": [],
   "source": [
    "url = 'https://raw.githubusercontent.com/fraxen/tectonicplates/master/GeoJSON/PB2002_boundaries.json'\n",
    "\n",
    "folium.GeoJson(\n",
    "    url,\n",
    "    name='geojson'\n",
    ").add_to(m)\n",
    "\n",
    "\n",
    "folium.LayerControl().add_to(m)\n",
    "\n",
    "\n",
    "# Same as before, we save it to file\n",
    "m.save('earthquakes.html')"
   ]
  }
 ],
 "metadata": {
  "kernelspec": {
   "display_name": "Python 3 (ipykernel)",
   "language": "python",
   "name": "python3"
  },
  "language_info": {
   "codemirror_mode": {
    "name": "ipython",
    "version": 3
   },
   "file_extension": ".py",
   "mimetype": "text/x-python",
   "name": "python",
   "nbconvert_exporter": "python",
   "pygments_lexer": "ipython3",
   "version": "3.9.13"
  }
 },
 "nbformat": 4,
 "nbformat_minor": 5
}
